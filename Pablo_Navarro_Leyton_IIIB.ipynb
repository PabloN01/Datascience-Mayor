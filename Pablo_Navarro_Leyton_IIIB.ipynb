{
 "cells": [
  {
   "cell_type": "code",
   "execution_count": 35,
   "id": "5c35a0b0",
   "metadata": {},
   "outputs": [],
   "source": [
    "import pandas as pd\n",
    "import numpy as np\n",
    "from sklearn.linear_model import LinearRegression"
   ]
  },
  {
   "cell_type": "markdown",
   "id": "6593a27b",
   "metadata": {},
   "source": [
    "# Leemos el dataset y definimos variable"
   ]
  },
  {
   "cell_type": "code",
   "execution_count": 36,
   "id": "c7c3b2d0",
   "metadata": {},
   "outputs": [
    {
     "data": {
      "text/html": [
       "<div>\n",
       "<style scoped>\n",
       "    .dataframe tbody tr th:only-of-type {\n",
       "        vertical-align: middle;\n",
       "    }\n",
       "\n",
       "    .dataframe tbody tr th {\n",
       "        vertical-align: top;\n",
       "    }\n",
       "\n",
       "    .dataframe thead th {\n",
       "        text-align: right;\n",
       "    }\n",
       "</style>\n",
       "<table border=\"1\" class=\"dataframe\">\n",
       "  <thead>\n",
       "    <tr style=\"text-align: right;\">\n",
       "      <th></th>\n",
       "      <th>Temporada</th>\n",
       "      <th>PJT</th>\n",
       "      <th>Goles</th>\n",
       "    </tr>\n",
       "  </thead>\n",
       "  <tbody>\n",
       "    <tr>\n",
       "      <th>0</th>\n",
       "      <td>14/15</td>\n",
       "      <td>49</td>\n",
       "      <td>25</td>\n",
       "    </tr>\n",
       "    <tr>\n",
       "      <th>1</th>\n",
       "      <td>15/16</td>\n",
       "      <td>49</td>\n",
       "      <td>67</td>\n",
       "    </tr>\n",
       "    <tr>\n",
       "      <th>2</th>\n",
       "      <td>16/17</td>\n",
       "      <td>147</td>\n",
       "      <td>110</td>\n",
       "    </tr>\n",
       "    <tr>\n",
       "      <th>3</th>\n",
       "      <td>17/18</td>\n",
       "      <td>195</td>\n",
       "      <td>151</td>\n",
       "    </tr>\n",
       "    <tr>\n",
       "      <th>4</th>\n",
       "      <td>18/19</td>\n",
       "      <td>242</td>\n",
       "      <td>191</td>\n",
       "    </tr>\n",
       "    <tr>\n",
       "      <th>5</th>\n",
       "      <td>19/20</td>\n",
       "      <td>289</td>\n",
       "      <td>246</td>\n",
       "    </tr>\n",
       "    <tr>\n",
       "      <th>6</th>\n",
       "      <td>20/21</td>\n",
       "      <td>329</td>\n",
       "      <td>296</td>\n",
       "    </tr>\n",
       "    <tr>\n",
       "      <th>7</th>\n",
       "      <td>21/22</td>\n",
       "      <td>375</td>\n",
       "      <td>346</td>\n",
       "    </tr>\n",
       "  </tbody>\n",
       "</table>\n",
       "</div>"
      ],
      "text/plain": [
       "  Temporada  PJT  Goles\n",
       "0     14/15   49     25\n",
       "1     15/16   49     67\n",
       "2     16/17  147    110\n",
       "3     17/18  195    151\n",
       "4     18/19  242    191\n",
       "5     19/20  289    246\n",
       "6     20/21  329    296\n",
       "7     21/22  375    346"
      ]
     },
     "execution_count": 36,
     "metadata": {},
     "output_type": "execute_result"
    }
   ],
   "source": [
    "thegrefG= pd.read_csv(\"Downloads/lewi-1 (5).csv\")\n",
    "thegrefG"
   ]
  },
  {
   "cell_type": "markdown",
   "id": "c5d71c5d",
   "metadata": {},
   "source": [
    "# Se me cambia un valor al cambiar de excel a csv asi q queda mas on menos lineal por si se preguntaba."
   ]
  },
  {
   "cell_type": "code",
   "execution_count": 37,
   "id": "7bf869f7",
   "metadata": {},
   "outputs": [
    {
     "data": {
      "text/html": [
       "<div>\n",
       "<style scoped>\n",
       "    .dataframe tbody tr th:only-of-type {\n",
       "        vertical-align: middle;\n",
       "    }\n",
       "\n",
       "    .dataframe tbody tr th {\n",
       "        vertical-align: top;\n",
       "    }\n",
       "\n",
       "    .dataframe thead th {\n",
       "        text-align: right;\n",
       "    }\n",
       "</style>\n",
       "<table border=\"1\" class=\"dataframe\">\n",
       "  <thead>\n",
       "    <tr style=\"text-align: right;\">\n",
       "      <th></th>\n",
       "      <th>Temporada</th>\n",
       "      <th>PJT</th>\n",
       "      <th>Goles</th>\n",
       "    </tr>\n",
       "  </thead>\n",
       "  <tbody>\n",
       "    <tr>\n",
       "      <th>0</th>\n",
       "      <td>14/15</td>\n",
       "      <td>49</td>\n",
       "      <td>25</td>\n",
       "    </tr>\n",
       "    <tr>\n",
       "      <th>1</th>\n",
       "      <td>15/16</td>\n",
       "      <td>49</td>\n",
       "      <td>67</td>\n",
       "    </tr>\n",
       "    <tr>\n",
       "      <th>2</th>\n",
       "      <td>16/17</td>\n",
       "      <td>147</td>\n",
       "      <td>110</td>\n",
       "    </tr>\n",
       "    <tr>\n",
       "      <th>3</th>\n",
       "      <td>17/18</td>\n",
       "      <td>195</td>\n",
       "      <td>151</td>\n",
       "    </tr>\n",
       "    <tr>\n",
       "      <th>4</th>\n",
       "      <td>18/19</td>\n",
       "      <td>242</td>\n",
       "      <td>191</td>\n",
       "    </tr>\n",
       "  </tbody>\n",
       "</table>\n",
       "</div>"
      ],
      "text/plain": [
       "  Temporada  PJT  Goles\n",
       "0     14/15   49     25\n",
       "1     15/16   49     67\n",
       "2     16/17  147    110\n",
       "3     17/18  195    151\n",
       "4     18/19  242    191"
      ]
     },
     "execution_count": 37,
     "metadata": {},
     "output_type": "execute_result"
    }
   ],
   "source": [
    "thegrefG.head()\n"
   ]
  },
  {
   "cell_type": "markdown",
   "id": "60a00c7c",
   "metadata": {},
   "source": [
    "# Rsquared y demas"
   ]
  },
  {
   "cell_type": "code",
   "execution_count": 38,
   "id": "970bb508",
   "metadata": {},
   "outputs": [],
   "source": [
    "import statsmodels.formula.api as smf"
   ]
  },
  {
   "cell_type": "code",
   "execution_count": 39,
   "id": "a7058874",
   "metadata": {},
   "outputs": [
    {
     "data": {
      "text/plain": [
       "<statsmodels.regression.linear_model.RegressionResultsWrapper at 0x226f097a130>"
      ]
     },
     "execution_count": 39,
     "metadata": {},
     "output_type": "execute_result"
    }
   ],
   "source": [
    "lm=smf.ols(formula=\"PJT~Goles\", data=thegrefG).fit()\n",
    "lm"
   ]
  },
  {
   "cell_type": "code",
   "execution_count": 40,
   "id": "f63a185c",
   "metadata": {},
   "outputs": [
    {
     "data": {
      "text/plain": [
       "Intercept    16.683989\n",
       "Goles         1.076486\n",
       "dtype: float64"
      ]
     },
     "execution_count": 40,
     "metadata": {},
     "output_type": "execute_result"
    }
   ],
   "source": [
    "lm.params "
   ]
  },
  {
   "cell_type": "code",
   "execution_count": 41,
   "id": "4dedcbe8",
   "metadata": {},
   "outputs": [
    {
     "data": {
      "text/plain": [
       "Intercept    0.302799\n",
       "Goles        0.000005\n",
       "dtype: float64"
      ]
     },
     "execution_count": 41,
     "metadata": {},
     "output_type": "execute_result"
    }
   ],
   "source": [
    "lm.pvalues"
   ]
  },
  {
   "cell_type": "code",
   "execution_count": 42,
   "id": "805ab440",
   "metadata": {},
   "outputs": [
    {
     "data": {
      "text/plain": [
       "0.9743134210595628"
      ]
     },
     "execution_count": 42,
     "metadata": {},
     "output_type": "execute_result"
    }
   ],
   "source": [
    "lm.rsquared"
   ]
  },
  {
   "cell_type": "code",
   "execution_count": 43,
   "id": "54708702",
   "metadata": {},
   "outputs": [
    {
     "data": {
      "text/plain": [
       "<bound method RegressionResults.summary of <statsmodels.regression.linear_model.OLSResults object at 0x00000226F097A160>>"
      ]
     },
     "execution_count": 43,
     "metadata": {},
     "output_type": "execute_result"
    }
   ],
   "source": [
    "lm.summary"
   ]
  },
  {
   "cell_type": "markdown",
   "id": "b2b5e080",
   "metadata": {},
   "source": []
  },
  {
   "cell_type": "code",
   "execution_count": 44,
   "id": "2aaf6c39",
   "metadata": {},
   "outputs": [
    {
     "data": {
      "text/plain": [
       "(8, 3)"
      ]
     },
     "execution_count": 44,
     "metadata": {},
     "output_type": "execute_result"
    }
   ],
   "source": [
    "thegrefG.shape"
   ]
  },
  {
   "cell_type": "markdown",
   "id": "ade0158a",
   "metadata": {},
   "source": [
    "# Definimos regresión lineal"
   ]
  },
  {
   "cell_type": "code",
   "execution_count": 45,
   "id": "29b252b6",
   "metadata": {},
   "outputs": [
    {
     "data": {
      "text/plain": [
       "LinearRegression()"
      ]
     },
     "execution_count": 45,
     "metadata": {},
     "output_type": "execute_result"
    }
   ],
   "source": [
    "reg = LinearRegression()\n",
    "reg.fit(thegrefG[[\"PJT\"]], thegrefG[\"Goles\"])"
   ]
  },
  {
   "cell_type": "markdown",
   "id": "5eb3267f",
   "metadata": {},
   "source": [
    "# Predecimos distintos valores"
   ]
  },
  {
   "cell_type": "code",
   "execution_count": 46,
   "id": "ec0fdcb6",
   "metadata": {},
   "outputs": [
    {
     "name": "stderr",
     "output_type": "stream",
     "text": [
      "D:\\progaramcioin\\anaconda\\lib\\site-packages\\sklearn\\base.py:450: UserWarning: X does not have valid feature names, but LinearRegression was fitted with feature names\n",
      "  warnings.warn(\n"
     ]
    },
    {
     "data": {
      "text/plain": [
       "array([12.12460969, 34.75178126])"
      ]
     },
     "execution_count": 46,
     "metadata": {},
     "output_type": "execute_result"
    }
   ],
   "source": [
    "reg.predict([[25],[50]])"
   ]
  },
  {
   "cell_type": "code",
   "execution_count": 47,
   "id": "abf0a396",
   "metadata": {},
   "outputs": [
    {
     "name": "stdout",
     "output_type": "stream",
     "text": [
      "la línea intersecta en : -10.502561879754609 y tiene una pendiente de [0.90508686]\n"
     ]
    }
   ],
   "source": [
    "print(f\"la línea intersecta en : {reg.intercept_} y tiene una pendiente de {reg.coef_}\")"
   ]
  },
  {
   "cell_type": "code",
   "execution_count": 48,
   "id": "d16d1855",
   "metadata": {
    "scrolled": true
   },
   "outputs": [
    {
     "data": {
      "text/plain": [
       "0     12.124610\n",
       "1     50.138258\n",
       "2     89.056993\n",
       "3    126.165554\n",
       "4    162.369029\n",
       "5    212.148806\n",
       "6    257.403149\n",
       "7    302.657493\n",
       "Name: Goles, dtype: float64"
      ]
     },
     "execution_count": 48,
     "metadata": {},
     "output_type": "execute_result"
    }
   ],
   "source": [
    " reg.coef_ * thegrefG[\"Goles\"] + reg.intercept_"
   ]
  },
  {
   "cell_type": "markdown",
   "id": "0aab766f",
   "metadata": {},
   "source": [
    "# Creamos la variable predicción"
   ]
  },
  {
   "cell_type": "code",
   "execution_count": 49,
   "id": "d93c3973",
   "metadata": {
    "scrolled": true
   },
   "outputs": [
    {
     "name": "stderr",
     "output_type": "stream",
     "text": [
      "D:\\progaramcioin\\anaconda\\lib\\site-packages\\sklearn\\base.py:493: FutureWarning: The feature names should match those that were passed during fit. Starting version 1.2, an error will be raised.\n",
      "Feature names unseen at fit time:\n",
      "- Goles\n",
      "Feature names seen at fit time, yet now missing:\n",
      "- PJT\n",
      "\n",
      "  warnings.warn(message, FutureWarning)\n"
     ]
    },
    {
     "data": {
      "text/plain": [
       "0     12.124610\n",
       "1     50.138258\n",
       "2     89.056993\n",
       "3    126.165554\n",
       "4    162.369029\n",
       "5    212.148806\n",
       "6    257.403149\n",
       "7    302.657493\n",
       "dtype: float64"
      ]
     },
     "execution_count": 49,
     "metadata": {},
     "output_type": "execute_result"
    }
   ],
   "source": [
    "pred = pd.Series(reg.predict(thegrefG[[\"Goles\"]]))\n",
    "pred"
   ]
  },
  {
   "cell_type": "markdown",
   "id": "f12def39",
   "metadata": {},
   "source": [
    "# Mostramos la predcción en el DF"
   ]
  },
  {
   "cell_type": "code",
   "execution_count": 50,
   "id": "93b87b2d",
   "metadata": {},
   "outputs": [
    {
     "data": {
      "text/html": [
       "<div>\n",
       "<style scoped>\n",
       "    .dataframe tbody tr th:only-of-type {\n",
       "        vertical-align: middle;\n",
       "    }\n",
       "\n",
       "    .dataframe tbody tr th {\n",
       "        vertical-align: top;\n",
       "    }\n",
       "\n",
       "    .dataframe thead th {\n",
       "        text-align: right;\n",
       "    }\n",
       "</style>\n",
       "<table border=\"1\" class=\"dataframe\">\n",
       "  <thead>\n",
       "    <tr style=\"text-align: right;\">\n",
       "      <th></th>\n",
       "      <th>Temporada</th>\n",
       "      <th>PJT</th>\n",
       "      <th>Goles</th>\n",
       "      <th>Pred. Goles</th>\n",
       "    </tr>\n",
       "  </thead>\n",
       "  <tbody>\n",
       "    <tr>\n",
       "      <th>0</th>\n",
       "      <td>14/15</td>\n",
       "      <td>49</td>\n",
       "      <td>25</td>\n",
       "      <td>12.124610</td>\n",
       "    </tr>\n",
       "    <tr>\n",
       "      <th>1</th>\n",
       "      <td>15/16</td>\n",
       "      <td>49</td>\n",
       "      <td>67</td>\n",
       "      <td>50.138258</td>\n",
       "    </tr>\n",
       "    <tr>\n",
       "      <th>2</th>\n",
       "      <td>16/17</td>\n",
       "      <td>147</td>\n",
       "      <td>110</td>\n",
       "      <td>89.056993</td>\n",
       "    </tr>\n",
       "    <tr>\n",
       "      <th>3</th>\n",
       "      <td>17/18</td>\n",
       "      <td>195</td>\n",
       "      <td>151</td>\n",
       "      <td>126.165554</td>\n",
       "    </tr>\n",
       "    <tr>\n",
       "      <th>4</th>\n",
       "      <td>18/19</td>\n",
       "      <td>242</td>\n",
       "      <td>191</td>\n",
       "      <td>162.369029</td>\n",
       "    </tr>\n",
       "    <tr>\n",
       "      <th>5</th>\n",
       "      <td>19/20</td>\n",
       "      <td>289</td>\n",
       "      <td>246</td>\n",
       "      <td>212.148806</td>\n",
       "    </tr>\n",
       "    <tr>\n",
       "      <th>6</th>\n",
       "      <td>20/21</td>\n",
       "      <td>329</td>\n",
       "      <td>296</td>\n",
       "      <td>257.403149</td>\n",
       "    </tr>\n",
       "    <tr>\n",
       "      <th>7</th>\n",
       "      <td>21/22</td>\n",
       "      <td>375</td>\n",
       "      <td>346</td>\n",
       "      <td>302.657493</td>\n",
       "    </tr>\n",
       "  </tbody>\n",
       "</table>\n",
       "</div>"
      ],
      "text/plain": [
       "  Temporada  PJT  Goles  Pred. Goles\n",
       "0     14/15   49     25    12.124610\n",
       "1     15/16   49     67    50.138258\n",
       "2     16/17  147    110    89.056993\n",
       "3     17/18  195    151   126.165554\n",
       "4     18/19  242    191   162.369029\n",
       "5     19/20  289    246   212.148806\n",
       "6     20/21  329    296   257.403149\n",
       "7     21/22  375    346   302.657493"
      ]
     },
     "execution_count": 50,
     "metadata": {},
     "output_type": "execute_result"
    }
   ],
   "source": [
    "thegrefG[\"Pred. Goles\"] = pred\n",
    "thegrefG"
   ]
  },
  {
   "cell_type": "markdown",
   "id": "1e8ad022",
   "metadata": {},
   "source": [
    "# Graficamos predicción"
   ]
  },
  {
   "cell_type": "code",
   "execution_count": 34,
   "id": "bfe69bc6",
   "metadata": {},
   "outputs": [
    {
     "data": {
      "image/png": "[encoded data removed]",
      "text/plain": [
       "<Figure size 432x288 with 1 Axes>"
      ]
     },
     "metadata": {
      "needs_background": "light"
     },
     "output_type": "display_data"
    },
    {
     "data": {
      "image/png": "[encoded data removed]",
      "text/plain": [
       "<Figure size 432x288 with 1 Axes>"
      ]
     },
     "metadata": {
      "needs_background": "light"
     },
     "output_type": "display_data"
    }
   ],
   "source": [
    "thegrefG.plot.scatter(x=\"PJT\", y=\"Pred. Goles\")\n",
    "ax = thegrefG.plot.line(x=\"PJT\", y=\"Pred. Goles\")"
   ]
  },
  {
   "cell_type": "code",
   "execution_count": null,
   "id": "66e14944",
   "metadata": {},
   "outputs": [],
   "source": []
  },
  {
   "cell_type": "markdown",
   "id": "69d29b4f",
   "metadata": {},
   "source": []
  },
  {
   "cell_type": "code",
   "execution_count": null,
   "id": "854b63a0",
   "metadata": {},
   "outputs": [],
   "source": []
  },
  {
   "cell_type": "code",
   "execution_count": null,
   "id": "4e503eb9",
   "metadata": {},
   "outputs": [],
   "source": []
  },
  {
   "cell_type": "code",
   "execution_count": null,
   "id": "949eaea6",
   "metadata": {},
   "outputs": [],
   "source": []
  },
  {
   "cell_type": "code",
   "execution_count": null,
   "id": "3cdee7e0",
   "metadata": {},
   "outputs": [],
   "source": []
  }
 ],
 "metadata": {
  "kernelspec": {
   "display_name": "Python 3 (ipykernel)",
   "language": "python",
   "name": "python3"
  },
  "language_info": {
   "codemirror_mode": {
    "name": "ipython",
    "version": 3
   },
   "file_extension": ".py",
   "mimetype": "text/x-python",
   "name": "python",
   "nbconvert_exporter": "python",
   "pygments_lexer": "ipython3",
   "version": "3.9.12"
  }
 },
 "nbformat": 4,
 "nbformat_minor": 5
}
