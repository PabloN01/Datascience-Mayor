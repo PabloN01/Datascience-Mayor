{
 "cells": [
  {
   "cell_type": "markdown",
   "id": "e0cc1030",
   "metadata": {},
   "source": [
    "# importamos pandas"
   ]
  },
  {
   "cell_type": "code",
   "execution_count": 118,
   "id": "265e0b33",
   "metadata": {},
   "outputs": [],
   "source": [
    "import pandas as pd"
   ]
  },
  {
   "cell_type": "code",
   "execution_count": 119,
   "id": "36e66099",
   "metadata": {},
   "outputs": [
    {
     "data": {
      "text/html": [
       "<div>\n",
       "<style scoped>\n",
       "    .dataframe tbody tr th:only-of-type {\n",
       "        vertical-align: middle;\n",
       "    }\n",
       "\n",
       "    .dataframe tbody tr th {\n",
       "        vertical-align: top;\n",
       "    }\n",
       "\n",
       "    .dataframe thead th {\n",
       "        text-align: right;\n",
       "    }\n",
       "</style>\n",
       "<table border=\"1\" class=\"dataframe\">\n",
       "  <thead>\n",
       "    <tr style=\"text-align: right;\">\n",
       "      <th></th>\n",
       "      <th>1998</th>\n",
       "      <th>1999</th>\n",
       "      <th>2000</th>\n",
       "      <th>2001</th>\n",
       "      <th>2002</th>\n",
       "      <th>2003</th>\n",
       "      <th>2004</th>\n",
       "      <th>2005</th>\n",
       "      <th>2006</th>\n",
       "      <th>2007</th>\n",
       "      <th>2008</th>\n",
       "      <th>2009</th>\n",
       "      <th>2010</th>\n",
       "      <th>2011</th>\n",
       "      <th>2012</th>\n",
       "      <th>2013</th>\n",
       "      <th>2014</th>\n",
       "      <th>2015</th>\n",
       "      <th>2016</th>\n",
       "    </tr>\n",
       "  </thead>\n",
       "  <tbody>\n",
       "    <tr>\n",
       "      <th>0</th>\n",
       "      <td>306.6</td>\n",
       "      <td>635.6</td>\n",
       "      <td>324.1</td>\n",
       "      <td>304.7</td>\n",
       "      <td>238.6</td>\n",
       "      <td>373.8</td>\n",
       "      <td>668.2</td>\n",
       "      <td>579.8</td>\n",
       "      <td>1903.8</td>\n",
       "      <td>1902.12</td>\n",
       "      <td>1903.2</td>\n",
       "      <td>629.2</td>\n",
       "      <td>326.90</td>\n",
       "      <td>634.6</td>\n",
       "      <td>648.9</td>\n",
       "      <td>468.8</td>\n",
       "      <td>471.8</td>\n",
       "      <td>424.2</td>\n",
       "      <td>263.0</td>\n",
       "    </tr>\n",
       "    <tr>\n",
       "      <th>1</th>\n",
       "      <td>94.1</td>\n",
       "      <td>66.8</td>\n",
       "      <td>75.9</td>\n",
       "      <td>85.2</td>\n",
       "      <td>49.2</td>\n",
       "      <td>74.8</td>\n",
       "      <td>132.1</td>\n",
       "      <td>99.4</td>\n",
       "      <td>458.3</td>\n",
       "      <td>428.70</td>\n",
       "      <td>289.1</td>\n",
       "      <td>526.2</td>\n",
       "      <td>1902.12</td>\n",
       "      <td>774.7</td>\n",
       "      <td>677.3</td>\n",
       "      <td>701.9</td>\n",
       "      <td>582.8</td>\n",
       "      <td>382.1</td>\n",
       "      <td>157.3</td>\n",
       "    </tr>\n",
       "    <tr>\n",
       "      <th>2</th>\n",
       "      <td>7.0</td>\n",
       "      <td>17.5</td>\n",
       "      <td>65.6</td>\n",
       "      <td>28.1</td>\n",
       "      <td>29.3</td>\n",
       "      <td>67.5</td>\n",
       "      <td>156.2</td>\n",
       "      <td>168.3</td>\n",
       "      <td>438.0</td>\n",
       "      <td>417.10</td>\n",
       "      <td>419.0</td>\n",
       "      <td>370.7</td>\n",
       "      <td>236.40</td>\n",
       "      <td>309.7</td>\n",
       "      <td>296.4</td>\n",
       "      <td>422.5</td>\n",
       "      <td>415.7</td>\n",
       "      <td>342.9</td>\n",
       "      <td>219.0</td>\n",
       "    </tr>\n",
       "    <tr>\n",
       "      <th>3</th>\n",
       "      <td>84.6</td>\n",
       "      <td>123.0</td>\n",
       "      <td>134.8</td>\n",
       "      <td>83.2</td>\n",
       "      <td>165.7</td>\n",
       "      <td>156.0</td>\n",
       "      <td>359.7</td>\n",
       "      <td>476.3</td>\n",
       "      <td>887.0</td>\n",
       "      <td>631.30</td>\n",
       "      <td>1902.1</td>\n",
       "      <td>565.5</td>\n",
       "      <td>627.50</td>\n",
       "      <td>929.1</td>\n",
       "      <td>791.4</td>\n",
       "      <td>735.9</td>\n",
       "      <td>927.2</td>\n",
       "      <td>736.8</td>\n",
       "      <td>769.5</td>\n",
       "    </tr>\n",
       "    <tr>\n",
       "      <th>4</th>\n",
       "      <td>45.1</td>\n",
       "      <td>36.8</td>\n",
       "      <td>50.3</td>\n",
       "      <td>23.4</td>\n",
       "      <td>34.7</td>\n",
       "      <td>41.4</td>\n",
       "      <td>77.7</td>\n",
       "      <td>96.8</td>\n",
       "      <td>228.9</td>\n",
       "      <td>148.70</td>\n",
       "      <td>118.6</td>\n",
       "      <td>68.4</td>\n",
       "      <td>187.10</td>\n",
       "      <td>174.5</td>\n",
       "      <td>137.3</td>\n",
       "      <td>65.4</td>\n",
       "      <td>154.0</td>\n",
       "      <td>88.8</td>\n",
       "      <td>81.2</td>\n",
       "    </tr>\n",
       "  </tbody>\n",
       "</table>\n",
       "</div>"
      ],
      "text/plain": [
       "    1998   1999   2000   2001   2002   2003   2004   2005    2006     2007  \\\n",
       "0  306.6  635.6  324.1  304.7  238.6  373.8  668.2  579.8  1903.8  1902.12   \n",
       "1   94.1   66.8   75.9   85.2   49.2   74.8  132.1   99.4   458.3   428.70   \n",
       "2    7.0   17.5   65.6   28.1   29.3   67.5  156.2  168.3   438.0   417.10   \n",
       "3   84.6  123.0  134.8   83.2  165.7  156.0  359.7  476.3   887.0   631.30   \n",
       "4   45.1   36.8   50.3   23.4   34.7   41.4   77.7   96.8   228.9   148.70   \n",
       "\n",
       "     2008   2009     2010   2011   2012   2013   2014   2015   2016  \n",
       "0  1903.2  629.2   326.90  634.6  648.9  468.8  471.8  424.2  263.0  \n",
       "1   289.1  526.2  1902.12  774.7  677.3  701.9  582.8  382.1  157.3  \n",
       "2   419.0  370.7   236.40  309.7  296.4  422.5  415.7  342.9  219.0  \n",
       "3  1902.1  565.5   627.50  929.1  791.4  735.9  927.2  736.8  769.5  \n",
       "4   118.6   68.4   187.10  174.5  137.3   65.4  154.0   88.8   81.2  "
      ]
     },
     "execution_count": 119,
     "metadata": {},
     "output_type": "execute_result"
    }
   ],
   "source": [
    "data = pd.read_csv(\"Downloads/valor-cobre-por-año-en-algunos-paises-_1_.csv\")\n",
    "data.head()"
   ]
  },
  {
   "cell_type": "markdown",
   "id": "ef050574",
   "metadata": {},
   "source": [
    "# vemos las columnas y filas"
   ]
  },
  {
   "cell_type": "code",
   "execution_count": 120,
   "id": "1823291e",
   "metadata": {},
   "outputs": [
    {
     "data": {
      "text/plain": [
       "(24, 19)"
      ]
     },
     "execution_count": 120,
     "metadata": {},
     "output_type": "execute_result"
    }
   ],
   "source": [
    "data.shape"
   ]
  },
  {
   "cell_type": "code",
   "execution_count": 121,
   "id": "ab725d65",
   "metadata": {},
   "outputs": [],
   "source": [
    "colnames = data.columns.values.tolist()\n",
    "predictors = colnames[:18]\n",
    "target = colnames[18]\n",
    "X = data[predictors]\n",
    "Y = data[target]"
   ]
  },
  {
   "cell_type": "code",
   "execution_count": 122,
   "id": "0002eb05",
   "metadata": {},
   "outputs": [],
   "source": [
    "from sklearn.tree import DecisionTreeRegressor"
   ]
  },
  {
   "cell_type": "code",
   "execution_count": 123,
   "id": "0ea28ed1",
   "metadata": {},
   "outputs": [],
   "source": [
    "\n",
    "regtree = DecisionTreeRegressor(min_samples_split=30, min_samples_leaf=10, max_depth=5, random_state=0)"
   ]
  },
  {
   "cell_type": "code",
   "execution_count": 124,
   "id": "76a1ce40",
   "metadata": {},
   "outputs": [
    {
     "data": {
      "text/plain": [
       "DecisionTreeRegressor(max_depth=5, min_samples_leaf=10, min_samples_split=30,\n",
       "                      random_state=0)"
      ]
     },
     "execution_count": 124,
     "metadata": {},
     "output_type": "execute_result"
    }
   ],
   "source": [
    "regtree.fit(X,Y)"
   ]
  },
  {
   "cell_type": "code",
   "execution_count": 125,
   "id": "e47f6e90",
   "metadata": {},
   "outputs": [],
   "source": [
    "preds = regtree.predict(data[predictors])"
   ]
  },
  {
   "cell_type": "code",
   "execution_count": 126,
   "id": "c3707b55",
   "metadata": {},
   "outputs": [],
   "source": [
    "data[\"preds\"] = preds"
   ]
  },
  {
   "cell_type": "code",
   "execution_count": 127,
   "id": "325d45be",
   "metadata": {},
   "outputs": [
    {
     "data": {
      "text/html": [
       "<div>\n",
       "<style scoped>\n",
       "    .dataframe tbody tr th:only-of-type {\n",
       "        vertical-align: middle;\n",
       "    }\n",
       "\n",
       "    .dataframe tbody tr th {\n",
       "        vertical-align: top;\n",
       "    }\n",
       "\n",
       "    .dataframe thead th {\n",
       "        text-align: right;\n",
       "    }\n",
       "</style>\n",
       "<table border=\"1\" class=\"dataframe\">\n",
       "  <thead>\n",
       "    <tr style=\"text-align: right;\">\n",
       "      <th></th>\n",
       "      <th>preds</th>\n",
       "      <th>2016</th>\n",
       "    </tr>\n",
       "  </thead>\n",
       "  <tbody>\n",
       "    <tr>\n",
       "      <th>0</th>\n",
       "      <td>1186.695833</td>\n",
       "      <td>263.0</td>\n",
       "    </tr>\n",
       "    <tr>\n",
       "      <th>1</th>\n",
       "      <td>1186.695833</td>\n",
       "      <td>157.3</td>\n",
       "    </tr>\n",
       "    <tr>\n",
       "      <th>2</th>\n",
       "      <td>1186.695833</td>\n",
       "      <td>219.0</td>\n",
       "    </tr>\n",
       "    <tr>\n",
       "      <th>3</th>\n",
       "      <td>1186.695833</td>\n",
       "      <td>769.5</td>\n",
       "    </tr>\n",
       "    <tr>\n",
       "      <th>4</th>\n",
       "      <td>1186.695833</td>\n",
       "      <td>81.2</td>\n",
       "    </tr>\n",
       "    <tr>\n",
       "      <th>5</th>\n",
       "      <td>1186.695833</td>\n",
       "      <td>539.3</td>\n",
       "    </tr>\n",
       "    <tr>\n",
       "      <th>6</th>\n",
       "      <td>1186.695833</td>\n",
       "      <td>599.7</td>\n",
       "    </tr>\n",
       "    <tr>\n",
       "      <th>7</th>\n",
       "      <td>1186.695833</td>\n",
       "      <td>485.5</td>\n",
       "    </tr>\n",
       "    <tr>\n",
       "      <th>8</th>\n",
       "      <td>1186.695833</td>\n",
       "      <td>13.5</td>\n",
       "    </tr>\n",
       "    <tr>\n",
       "      <th>9</th>\n",
       "      <td>1186.695833</td>\n",
       "      <td>76.8</td>\n",
       "    </tr>\n",
       "    <tr>\n",
       "      <th>10</th>\n",
       "      <td>1186.695833</td>\n",
       "      <td>39.3</td>\n",
       "    </tr>\n",
       "    <tr>\n",
       "      <th>11</th>\n",
       "      <td>1186.695833</td>\n",
       "      <td>6.2</td>\n",
       "    </tr>\n",
       "    <tr>\n",
       "      <th>12</th>\n",
       "      <td>1186.695833</td>\n",
       "      <td>1903.1</td>\n",
       "    </tr>\n",
       "    <tr>\n",
       "      <th>13</th>\n",
       "      <td>1186.695833</td>\n",
       "      <td>148.6</td>\n",
       "    </tr>\n",
       "    <tr>\n",
       "      <th>14</th>\n",
       "      <td>1186.695833</td>\n",
       "      <td>1974.2</td>\n",
       "    </tr>\n",
       "    <tr>\n",
       "      <th>15</th>\n",
       "      <td>1186.695833</td>\n",
       "      <td>95.8</td>\n",
       "    </tr>\n",
       "    <tr>\n",
       "      <th>16</th>\n",
       "      <td>1186.695833</td>\n",
       "      <td>2971.9</td>\n",
       "    </tr>\n",
       "    <tr>\n",
       "      <th>17</th>\n",
       "      <td>1186.695833</td>\n",
       "      <td>12230.4</td>\n",
       "    </tr>\n",
       "    <tr>\n",
       "      <th>18</th>\n",
       "      <td>1186.695833</td>\n",
       "      <td>1903.5</td>\n",
       "    </tr>\n",
       "    <tr>\n",
       "      <th>19</th>\n",
       "      <td>1186.695833</td>\n",
       "      <td>2947.3</td>\n",
       "    </tr>\n",
       "    <tr>\n",
       "      <th>20</th>\n",
       "      <td>1186.695833</td>\n",
       "      <td>61.4</td>\n",
       "    </tr>\n",
       "    <tr>\n",
       "      <th>21</th>\n",
       "      <td>1186.695833</td>\n",
       "      <td>147.3</td>\n",
       "    </tr>\n",
       "    <tr>\n",
       "      <th>22</th>\n",
       "      <td>1186.695833</td>\n",
       "      <td>734.5</td>\n",
       "    </tr>\n",
       "    <tr>\n",
       "      <th>23</th>\n",
       "      <td>1186.695833</td>\n",
       "      <td>112.4</td>\n",
       "    </tr>\n",
       "  </tbody>\n",
       "</table>\n",
       "</div>"
      ],
      "text/plain": [
       "          preds     2016\n",
       "0   1186.695833    263.0\n",
       "1   1186.695833    157.3\n",
       "2   1186.695833    219.0\n",
       "3   1186.695833    769.5\n",
       "4   1186.695833     81.2\n",
       "5   1186.695833    539.3\n",
       "6   1186.695833    599.7\n",
       "7   1186.695833    485.5\n",
       "8   1186.695833     13.5\n",
       "9   1186.695833     76.8\n",
       "10  1186.695833     39.3\n",
       "11  1186.695833      6.2\n",
       "12  1186.695833   1903.1\n",
       "13  1186.695833    148.6\n",
       "14  1186.695833   1974.2\n",
       "15  1186.695833     95.8\n",
       "16  1186.695833   2971.9\n",
       "17  1186.695833  12230.4\n",
       "18  1186.695833   1903.5\n",
       "19  1186.695833   2947.3\n",
       "20  1186.695833     61.4\n",
       "21  1186.695833    147.3\n",
       "22  1186.695833    734.5\n",
       "23  1186.695833    112.4"
      ]
     },
     "execution_count": 127,
     "metadata": {},
     "output_type": "execute_result"
    }
   ],
   "source": [
    "data[[\"preds\", \"2016\"]]"
   ]
  },
  {
   "cell_type": "code",
   "execution_count": 128,
   "id": "9a817f73",
   "metadata": {},
   "outputs": [
    {
     "ename": "ModuleNotFoundError",
     "evalue": "No module named 'graphviz'",
     "output_type": "error",
     "traceback": [
      "\u001b[1;31m---------------------------------------------------------------------------\u001b[0m",
      "\u001b[1;31mModuleNotFoundError\u001b[0m                       Traceback (most recent call last)",
      "Input \u001b[1;32mIn [128]\u001b[0m, in \u001b[0;36m<cell line: 7>\u001b[1;34m()\u001b[0m\n\u001b[0;32m      4\u001b[0m     dotfile\u001b[38;5;241m.\u001b[39mclose()\n\u001b[0;32m      6\u001b[0m \u001b[38;5;28;01mimport\u001b[39;00m \u001b[38;5;21;01mos\u001b[39;00m\n\u001b[1;32m----> 7\u001b[0m \u001b[38;5;28;01mfrom\u001b[39;00m \u001b[38;5;21;01mgraphviz\u001b[39;00m \u001b[38;5;28;01mimport\u001b[39;00m Source\n\u001b[0;32m      8\u001b[0m file \u001b[38;5;241m=\u001b[39m \u001b[38;5;28mopen\u001b[39m(\u001b[38;5;124m\"\u001b[39m\u001b[38;5;124mDownloads/valor cobre por año en algunos paises.csv\u001b[39m\u001b[38;5;124m\"\u001b[39m, \u001b[38;5;124m\"\u001b[39m\u001b[38;5;124mr\u001b[39m\u001b[38;5;124m\"\u001b[39m)\n\u001b[0;32m      9\u001b[0m text \u001b[38;5;241m=\u001b[39m file\u001b[38;5;241m.\u001b[39mread()\n",
      "\u001b[1;31mModuleNotFoundError\u001b[0m: No module named 'graphviz'"
     ]
    }
   ],
   "source": [
    "from sklearn.tree import export_graphviz\n",
    "with open(\"Downloads/valor-cobre-por-año-en-algunos-paises.csv\", \"w\") as dotfile:\n",
    "    export_graphviz(regtree, out_file=dotfile, feature_names=predictors)\n",
    "    dotfile.close()\n",
    "    \n",
    "import os\n",
    "from graphviz import Source\n",
    "file = open(\"Downloads/valor cobre por año en algunos paises.csv\", \"r\")\n",
    "text = file.read()\n",
    "Source(text)"
   ]
  },
  {
   "cell_type": "code",
   "execution_count": 129,
   "id": "f7d8b3ca",
   "metadata": {},
   "outputs": [
    {
     "ename": "ModuleNotFoundError",
     "evalue": "No module named 'sklearn.cross_validation'",
     "output_type": "error",
     "traceback": [
      "\u001b[1;31m---------------------------------------------------------------------------\u001b[0m",
      "\u001b[1;31mModuleNotFoundError\u001b[0m                       Traceback (most recent call last)",
      "Input \u001b[1;32mIn [129]\u001b[0m, in \u001b[0;36m<cell line: 1>\u001b[1;34m()\u001b[0m\n\u001b[1;32m----> 1\u001b[0m \u001b[38;5;28;01mfrom\u001b[39;00m \u001b[38;5;21;01msklearn\u001b[39;00m\u001b[38;5;21;01m.\u001b[39;00m\u001b[38;5;21;01mcross_validation\u001b[39;00m \u001b[38;5;28;01mimport\u001b[39;00m KFold\n\u001b[0;32m      2\u001b[0m \u001b[38;5;28;01mfrom\u001b[39;00m \u001b[38;5;21;01msklearn\u001b[39;00m\u001b[38;5;21;01m.\u001b[39;00m\u001b[38;5;21;01mcross_validation\u001b[39;00m \u001b[38;5;28;01mimport\u001b[39;00m cross_val_score\n\u001b[0;32m      3\u001b[0m \u001b[38;5;28;01mimport\u001b[39;00m \u001b[38;5;21;01mnumpy\u001b[39;00m \u001b[38;5;28;01mas\u001b[39;00m \u001b[38;5;21;01mnp\u001b[39;00m\n",
      "\u001b[1;31mModuleNotFoundError\u001b[0m: No module named 'sklearn.cross_validation'"
     ]
    }
   ],
   "source": [
    "from sklearn.cross_validation import KFold\n",
    "from sklearn.cross_validation import cross_val_score\n",
    "import numpy as np"
   ]
  },
  {
   "cell_type": "code",
   "execution_count": 130,
   "id": "ea58fcf4",
   "metadata": {},
   "outputs": [
    {
     "ename": "NameError",
     "evalue": "name 'KFold' is not defined",
     "output_type": "error",
     "traceback": [
      "\u001b[1;31m---------------------------------------------------------------------------\u001b[0m",
      "\u001b[1;31mNameError\u001b[0m                                 Traceback (most recent call last)",
      "Input \u001b[1;32mIn [130]\u001b[0m, in \u001b[0;36m<cell line: 1>\u001b[1;34m()\u001b[0m\n\u001b[1;32m----> 1\u001b[0m cv \u001b[38;5;241m=\u001b[39m \u001b[43mKFold\u001b[49m(n\u001b[38;5;241m=\u001b[39mX\u001b[38;5;241m.\u001b[39mshape[\u001b[38;5;241m0\u001b[39m], n_folds \u001b[38;5;241m=\u001b[39m \u001b[38;5;241m10\u001b[39m, shuffle\u001b[38;5;241m=\u001b[39m\u001b[38;5;28;01mTrue\u001b[39;00m, random_state\u001b[38;5;241m=\u001b[39m\u001b[38;5;241m1\u001b[39m)\n\u001b[0;32m      2\u001b[0m scores \u001b[38;5;241m=\u001b[39m cross_val_score(regtree, X, Y, scoring\u001b[38;5;241m=\u001b[39m\u001b[38;5;124m\"\u001b[39m\u001b[38;5;124mmean_squared_error\u001b[39m\u001b[38;5;124m\"\u001b[39m, cv \u001b[38;5;241m=\u001b[39m cv, n_jobs\u001b[38;5;241m=\u001b[39m\u001b[38;5;241m1\u001b[39m)\n\u001b[0;32m      3\u001b[0m \u001b[38;5;28mprint\u001b[39m(scores)\n",
      "\u001b[1;31mNameError\u001b[0m: name 'KFold' is not defined"
     ]
    }
   ],
   "source": [
    "cv = KFold(n=X.shape[0], n_folds = 10, shuffle=True, random_state=1)\n",
    "scores = cross_val_score(regtree, X, Y, scoring=\"mean_squared_error\", cv = cv, n_jobs=1)\n",
    "print(scores)\n",
    "score = np.mean(scores)\n",
    "print(score)"
   ]
  },
  {
   "cell_type": "code",
   "execution_count": 131,
   "id": "5fa8fbff",
   "metadata": {},
   "outputs": [
    {
     "data": {
      "text/plain": [
       "[('1998', 0.0),\n",
       " ('1999', 0.0),\n",
       " ('2000', 0.0),\n",
       " ('2001', 0.0),\n",
       " ('2002', 0.0),\n",
       " ('2003', 0.0),\n",
       " ('2004', 0.0),\n",
       " ('2005', 0.0),\n",
       " ('2006', 0.0),\n",
       " ('2007', 0.0),\n",
       " ('2008', 0.0),\n",
       " ('2009', 0.0),\n",
       " ('2010', 0.0),\n",
       " ('2011', 0.0),\n",
       " ('2012', 0.0),\n",
       " ('2013', 0.0),\n",
       " ('2014', 0.0),\n",
       " ('2015', 0.0)]"
      ]
     },
     "execution_count": 131,
     "metadata": {},
     "output_type": "execute_result"
    }
   ],
   "source": [
    "list(zip(predictors,regtree.feature_importances_))"
   ]
  },
  {
   "cell_type": "code",
   "execution_count": 132,
   "id": "18fce983",
   "metadata": {},
   "outputs": [],
   "source": [
    "\n",
    "from sklearn.ensemble import RandomForestRegressor"
   ]
  },
  {
   "cell_type": "code",
   "execution_count": 133,
   "id": "f7a1e7c6",
   "metadata": {},
   "outputs": [
    {
     "data": {
      "text/plain": [
       "RandomForestRegressor(n_estimators=10000, n_jobs=2, oob_score=True)"
      ]
     },
     "execution_count": 133,
     "metadata": {},
     "output_type": "execute_result"
    }
   ],
   "source": [
    "forest = RandomForestRegressor(n_jobs=2, oob_score=True, n_estimators=10000)\n",
    "forest.fit(X,Y)"
   ]
  },
  {
   "cell_type": "code",
   "execution_count": 134,
   "id": "01ef44de",
   "metadata": {},
   "outputs": [
    {
     "data": {
      "text/html": [
       "<div>\n",
       "<style scoped>\n",
       "    .dataframe tbody tr th:only-of-type {\n",
       "        vertical-align: middle;\n",
       "    }\n",
       "\n",
       "    .dataframe tbody tr th {\n",
       "        vertical-align: top;\n",
       "    }\n",
       "\n",
       "    .dataframe thead th {\n",
       "        text-align: right;\n",
       "    }\n",
       "</style>\n",
       "<table border=\"1\" class=\"dataframe\">\n",
       "  <thead>\n",
       "    <tr style=\"text-align: right;\">\n",
       "      <th></th>\n",
       "      <th>rforest_pred</th>\n",
       "      <th>2016</th>\n",
       "    </tr>\n",
       "  </thead>\n",
       "  <tbody>\n",
       "    <tr>\n",
       "      <th>0</th>\n",
       "      <td>393.980616</td>\n",
       "      <td>263.0</td>\n",
       "    </tr>\n",
       "    <tr>\n",
       "      <th>1</th>\n",
       "      <td>327.922222</td>\n",
       "      <td>157.3</td>\n",
       "    </tr>\n",
       "    <tr>\n",
       "      <th>2</th>\n",
       "      <td>134.293086</td>\n",
       "      <td>219.0</td>\n",
       "    </tr>\n",
       "    <tr>\n",
       "      <th>3</th>\n",
       "      <td>299.953846</td>\n",
       "      <td>769.5</td>\n",
       "    </tr>\n",
       "    <tr>\n",
       "      <th>4</th>\n",
       "      <td>65.296470</td>\n",
       "      <td>81.2</td>\n",
       "    </tr>\n",
       "    <tr>\n",
       "      <th>5</th>\n",
       "      <td>620.389344</td>\n",
       "      <td>539.3</td>\n",
       "    </tr>\n",
       "    <tr>\n",
       "      <th>6</th>\n",
       "      <td>1204.525760</td>\n",
       "      <td>599.7</td>\n",
       "    </tr>\n",
       "    <tr>\n",
       "      <th>7</th>\n",
       "      <td>1048.991429</td>\n",
       "      <td>485.5</td>\n",
       "    </tr>\n",
       "    <tr>\n",
       "      <th>8</th>\n",
       "      <td>112.278001</td>\n",
       "      <td>13.5</td>\n",
       "    </tr>\n",
       "    <tr>\n",
       "      <th>9</th>\n",
       "      <td>114.242583</td>\n",
       "      <td>76.8</td>\n",
       "    </tr>\n",
       "    <tr>\n",
       "      <th>10</th>\n",
       "      <td>68.112186</td>\n",
       "      <td>39.3</td>\n",
       "    </tr>\n",
       "    <tr>\n",
       "      <th>11</th>\n",
       "      <td>84.257912</td>\n",
       "      <td>6.2</td>\n",
       "    </tr>\n",
       "    <tr>\n",
       "      <th>12</th>\n",
       "      <td>1280.004737</td>\n",
       "      <td>1903.1</td>\n",
       "    </tr>\n",
       "    <tr>\n",
       "      <th>13</th>\n",
       "      <td>200.853749</td>\n",
       "      <td>148.6</td>\n",
       "    </tr>\n",
       "    <tr>\n",
       "      <th>14</th>\n",
       "      <td>2679.338037</td>\n",
       "      <td>1974.2</td>\n",
       "    </tr>\n",
       "    <tr>\n",
       "      <th>15</th>\n",
       "      <td>232.782319</td>\n",
       "      <td>95.8</td>\n",
       "    </tr>\n",
       "    <tr>\n",
       "      <th>16</th>\n",
       "      <td>1933.989376</td>\n",
       "      <td>2971.9</td>\n",
       "    </tr>\n",
       "    <tr>\n",
       "      <th>17</th>\n",
       "      <td>2780.324350</td>\n",
       "      <td>12230.4</td>\n",
       "    </tr>\n",
       "    <tr>\n",
       "      <th>18</th>\n",
       "      <td>1067.979534</td>\n",
       "      <td>1903.5</td>\n",
       "    </tr>\n",
       "    <tr>\n",
       "      <th>19</th>\n",
       "      <td>4496.274993</td>\n",
       "      <td>2947.3</td>\n",
       "    </tr>\n",
       "    <tr>\n",
       "      <th>20</th>\n",
       "      <td>64.252472</td>\n",
       "      <td>61.4</td>\n",
       "    </tr>\n",
       "    <tr>\n",
       "      <th>21</th>\n",
       "      <td>40.004331</td>\n",
       "      <td>147.3</td>\n",
       "    </tr>\n",
       "    <tr>\n",
       "      <th>22</th>\n",
       "      <td>880.714115</td>\n",
       "      <td>734.5</td>\n",
       "    </tr>\n",
       "    <tr>\n",
       "      <th>23</th>\n",
       "      <td>141.344272</td>\n",
       "      <td>112.4</td>\n",
       "    </tr>\n",
       "  </tbody>\n",
       "</table>\n",
       "</div>"
      ],
      "text/plain": [
       "    rforest_pred     2016\n",
       "0     393.980616    263.0\n",
       "1     327.922222    157.3\n",
       "2     134.293086    219.0\n",
       "3     299.953846    769.5\n",
       "4      65.296470     81.2\n",
       "5     620.389344    539.3\n",
       "6    1204.525760    599.7\n",
       "7    1048.991429    485.5\n",
       "8     112.278001     13.5\n",
       "9     114.242583     76.8\n",
       "10     68.112186     39.3\n",
       "11     84.257912      6.2\n",
       "12   1280.004737   1903.1\n",
       "13    200.853749    148.6\n",
       "14   2679.338037   1974.2\n",
       "15    232.782319     95.8\n",
       "16   1933.989376   2971.9\n",
       "17   2780.324350  12230.4\n",
       "18   1067.979534   1903.5\n",
       "19   4496.274993   2947.3\n",
       "20     64.252472     61.4\n",
       "21     40.004331    147.3\n",
       "22    880.714115    734.5\n",
       "23    141.344272    112.4"
      ]
     },
     "execution_count": 134,
     "metadata": {},
     "output_type": "execute_result"
    }
   ],
   "source": [
    "data[\"rforest_pred\"]= forest.oob_prediction_\n",
    "data[[\"rforest_pred\", \"2016\"]]"
   ]
  },
  {
   "cell_type": "code",
   "execution_count": 135,
   "id": "22f5cb2a",
   "metadata": {},
   "outputs": [
    {
     "data": {
      "text/plain": [
       "3975061.2155315205"
      ]
     },
     "execution_count": 135,
     "metadata": {},
     "output_type": "execute_result"
    }
   ],
   "source": [
    "data[\"rforest_error2\"] = (data[\"rforest_pred\"]-data[\"2016\"])**2\n",
    "sum(data[\"rforest_error2\"])/len(data)"
   ]
  },
  {
   "cell_type": "code",
   "execution_count": 136,
   "id": "286bd07c",
   "metadata": {},
   "outputs": [
    {
     "data": {
      "text/plain": [
       "0.34963622889756596"
      ]
     },
     "execution_count": 136,
     "metadata": {},
     "output_type": "execute_result"
    }
   ],
   "source": [
    "forest.oob_score_"
   ]
  },
  {
   "cell_type": "code",
   "execution_count": null,
   "id": "1018e128",
   "metadata": {},
   "outputs": [],
   "source": []
  },
  {
   "cell_type": "code",
   "execution_count": null,
   "id": "efbea02e",
   "metadata": {},
   "outputs": [],
   "source": []
  }
 ],
 "metadata": {
  "kernelspec": {
   "display_name": "Python 3 (ipykernel)",
   "language": "python",
   "name": "python3"
  },
  "language_info": {
   "codemirror_mode": {
    "name": "ipython",
    "version": 3
   },
   "file_extension": ".py",
   "mimetype": "text/x-python",
   "name": "python",
   "nbconvert_exporter": "python",
   "pygments_lexer": "ipython3",
   "version": "3.9.12"
  }
 },
 "nbformat": 4,
 "nbformat_minor": 5
}
